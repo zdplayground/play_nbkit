{
 "cells": [
  {
   "cell_type": "markdown",
   "metadata": {},
   "source": [
    "What we downloaded is Planck catalogs."
   ]
  },
  {
   "cell_type": "code",
   "execution_count": 50,
   "metadata": {},
   "outputs": [
    {
     "name": "stdout",
     "output_type": "stream",
     "text": [
      "[1297520]\n"
     ]
    }
   ],
   "source": [
    "import numpy as np\n",
    "\n",
    "filename = \"/Users/ding/Downloads/halos_0\"\n",
    "\n",
    "# This halo type is new as of Sept. 2016\n",
    "# The \"Neff3\" sims use it; the \"planck\" sims use the old dtype\n",
    "#halo_type = np.dtype([(\"gid\",np.int64),(\"N\",np.int64),(\"x\",np.float32,3),(\"v\",np.float32,3),(\"sigma_v\",np.float32,3),\n",
    "#                       (\"r25\",np.float32),(\"r50\",np.float32),(\"r75\",np.float32),(\"r90\",np.float32),\n",
    "#                       (\"vcirc_max\",np.float32),(\"rvcirc_max\",np.float32),\n",
    "#                       (\"pf_start\",np.int64),(\"pf_np\",np.int64)])\n",
    "\n",
    "#This is the old dtype that the \"planck\" sims use\n",
    "#num_groups is also 32-bit in this version; see below.\n",
    "halo_type = np.dtype([(\"gid\",np.int32),(\"N\",np.int32),(\"Position\",np.float32,3),(\"v\",np.float32,3),(\"sigma_v\",np.float32,3),\n",
    "                      (\"r25\",np.float32),(\"r50\",np.float32),(\"r75\",np.float32),(\"r90\",np.float32),\n",
    "                      (\"pf_start\",np.int64),(\"pf_np\",np.int32)])\n",
    "\n",
    "fp = open(filename,\"rb\")\n",
    "\n",
    "#we first read the total number of groups, just so we don't have to deal with it not being halo_type\n",
    "num_groups = np.fromfile(fp,dtype=np.int32,count=1)  # NOTE: this uses np.int32 with the old halo dtype\n",
    "print(num_groups)"
   ]
  },
  {
   "cell_type": "code",
   "execution_count": 51,
   "metadata": {
    "collapsed": true
   },
   "outputs": [],
   "source": [
    "halos = np.fromfile(fp,dtype=halo_type)"
   ]
  },
  {
   "cell_type": "code",
   "execution_count": 52,
   "metadata": {},
   "outputs": [
    {
     "name": "stdout",
     "output_type": "stream",
     "text": [
      "[ (      0, 105835, [-0.37403375,  0.06187559,  0.32598749], [-0.0030261 ,  0.00091194,  0.00050777], [ 0.01571805,  0.01938944,  0.01615746],   9.87340813e-04,   1.57746335e-03,  0.00215333,  0.00261515,        0, 10580)\n",
      " (      1,  85752, [-0.25992078, -0.41617808,  0.12623017], [ 0.00087401,  0.00065161, -0.0041647 ], [ 0.01437996,  0.01328415,  0.01738182],   1.07903010e-03,   1.70135486e-03,  0.0023814 ,  0.00289032,    10580,  8530)\n",
      " (      2,  79582, [-0.22334227, -0.46090865,  0.20009035], [-0.00287477,  0.00541451, -0.0001645 ], [ 0.02000825,  0.01585446,  0.01493386],   6.27144822e-04,   1.21005834e-03,  0.0019134 ,  0.00257296,    19110,  7873)\n",
      " ...,\n",
      " (1340616,     30, [-0.16719955,  0.44681725,  0.47114328], [-0.00473511, -0.00026293,  0.00814649], [ 0.00065897,  0.0005725 ,  0.00076932],   1.07802072e-04,   1.53549830e-04,  0.00019062,  0.00024076, 26137540,     5)\n",
      " (1340618,     30, [-0.1686196 ,  0.49417335,  0.49076039], [-0.00586702, -0.00398773,  0.00464996], [ 0.00062504,  0.00072351,  0.00073854],   6.94499977e-05,   1.14446295e-04,  0.00015007,  0.00018304, 26137545,     0)\n",
      " (1340619,     30, [-0.17053288,  0.49405596,  0.49229601], [-0.00512373, -0.0032624 ,  0.0016612 ], [ 0.00085245,  0.00059173,  0.00094295],   6.18001723e-05,   9.51115071e-05,  0.00015052,  0.00018342, 26137545,     6)]\n"
     ]
    }
   ],
   "source": [
    "print(halos)"
   ]
  },
  {
   "cell_type": "code",
   "execution_count": 53,
   "metadata": {},
   "outputs": [
    {
     "name": "stdout",
     "output_type": "stream",
     "text": [
      "[('gid', '<i4'), ('N', '<i4'), ('Position', '<f4', (3,)), ('v', '<f4', (3,)), ('sigma_v', '<f4', (3,)), ('r25', '<f4'), ('r50', '<f4'), ('r75', '<f4'), ('r90', '<f4'), ('pf_start', '<i8'), ('pf_np', '<i4')]\n"
     ]
    }
   ],
   "source": [
    "print(halos.dtype)"
   ]
  },
  {
   "cell_type": "code",
   "execution_count": 54,
   "metadata": {},
   "outputs": [
    {
     "data": {
      "text/plain": [
       "<memory at 0x127c11dc8>"
      ]
     },
     "execution_count": 54,
     "metadata": {},
     "output_type": "execute_result"
    }
   ],
   "source": [
    "halos.data"
   ]
  },
  {
   "cell_type": "code",
   "execution_count": 55,
   "metadata": {
    "collapsed": true
   },
   "outputs": [],
   "source": [
    "import nbodykit.lab as nlab"
   ]
  },
  {
   "cell_type": "code",
   "execution_count": 56,
   "metadata": {},
   "outputs": [
    {
     "name": "stdout",
     "output_type": "stream",
     "text": [
      "Populating the interactive namespace from numpy and matplotlib\n"
     ]
    }
   ],
   "source": [
    "%pylab inline"
   ]
  },
  {
   "cell_type": "code",
   "execution_count": 57,
   "metadata": {},
   "outputs": [],
   "source": [
    "cat = nlab.ArrayCatalog(halos)"
   ]
  },
  {
   "cell_type": "code",
   "execution_count": 58,
   "metadata": {},
   "outputs": [
    {
     "data": {
      "text/plain": [
       "['N',\n",
       " 'Position',\n",
       " 'Selection',\n",
       " 'Weight',\n",
       " 'gid',\n",
       " 'pf_np',\n",
       " 'pf_start',\n",
       " 'r25',\n",
       " 'r50',\n",
       " 'r75',\n",
       " 'r90',\n",
       " 'sigma_v',\n",
       " 'v']"
      ]
     },
     "execution_count": 58,
     "metadata": {},
     "output_type": "execute_result"
    }
   ],
   "source": [
    "cat.columns"
   ]
  },
  {
   "cell_type": "code",
   "execution_count": 76,
   "metadata": {
    "collapsed": true
   },
   "outputs": [],
   "source": [
    "cat.attrs['BoxSize']=720.0"
   ]
  },
  {
   "cell_type": "code",
   "execution_count": 77,
   "metadata": {},
   "outputs": [
    {
     "data": {
      "text/plain": [
       "{'BoxSize': 720.0}"
      ]
     },
     "execution_count": 77,
     "metadata": {},
     "output_type": "execute_result"
    }
   ],
   "source": [
    "cat.attrs"
   ]
  },
  {
   "cell_type": "code",
   "execution_count": 35,
   "metadata": {},
   "outputs": [
    {
     "name": "stdout",
     "output_type": "stream",
     "text": [
      "Help on class FFTPower in module nbodykit.algorithms.fftpower:\n",
      "\n",
      "class FFTPower(FFTPowerBase)\n",
      " |  Algorithm to compute the 1d or 2d power spectrum and/or multipoles\n",
      " |  in a periodic box, using a Fast Fourier Transform (FFT)\n",
      " |  \n",
      " |  Notes\n",
      " |  -----\n",
      " |  The algorithm saves the power spectrum results to a plaintext file, \n",
      " |  as well as the meta-data associted with the algorithm. The names of the\n",
      " |  columns saved to file are:\n",
      " |  \n",
      " |      - k : \n",
      " |          the mean value for each `k` bin\n",
      " |      - mu : 2D power only\n",
      " |          the mean value for each `mu` bin\n",
      " |      - power.real, power.imag : 1D/2D power only\n",
      " |          the real and imaginary components of 1D power\n",
      " |      - power_X.real, power_X.imag : multipoles only\n",
      " |          the real and imaginary components for the `X` multipole\n",
      " |      - modes : \n",
      " |          the number of Fourier modes averaged together in each bin\n",
      " |  \n",
      " |  The plaintext files also include meta-data associated with the algorithm:\n",
      " |  \n",
      " |      - Lx, Ly, Lz : \n",
      " |          the length of each side of the box used when computing FFTs\n",
      " |      - volumne : \n",
      " |          the volume of the box; equal to ``Lx*Ly*Lz``\n",
      " |      - N1 : \n",
      " |          the number of objects in the 1st catalog\n",
      " |      - N2 : \n",
      " |          the number of objects in the 2nd catalog; equal to `N1`\n",
      " |          if the power spectrum is an auto spectrum\n",
      " |  \n",
      " |  See :func:`nbodykit.files.Read1DPlainText`, :func:`nbodykit.files.Read2DPlainText`\n",
      " |  and :func:`nbodykit.dataset.Power1dDataSet.from_nbkit`\n",
      " |  :func:`nbodykit.dataset.Power2dDataSet.from_nbkit` for examples on how to read the\n",
      " |  the plaintext file.\n",
      " |  \n",
      " |  Method resolution order:\n",
      " |      FFTPower\n",
      " |      FFTPowerBase\n",
      " |      builtins.object\n",
      " |  \n",
      " |  Methods defined here:\n",
      " |  \n",
      " |  __getstate__(self)\n",
      " |  \n",
      " |  __init__(self, first, mode, Nmesh=None, BoxSize=None, second=None, los=[0, 0, 1], Nmu=5, dk=None, kmin=0.0, poles=[])\n",
      " |      Parameters\n",
      " |      ----------\n",
      " |      comm : \n",
      " |          the MPI communicator\n",
      " |      first : CatalogSource, MeshSource\n",
      " |          the source for the first field. CatalogSource is automatically converted to MeshSource\n",
      " |      mode : {'1d', '2d'}\n",
      " |          compute either 1d or 2d power spectra\n",
      " |      Nmesh : int\n",
      " |          the number of cells per side in the particle mesh used to paint the source\n",
      " |      second : CatalogSource, MeshSource; optional\n",
      " |          the second source for cross-correlations\n",
      " |      los : array_like ; optional\n",
      " |          the direction to use as the line-of-sight\n",
      " |      Nmu : int; optional\n",
      " |          the number of mu bins to use from mu=[0,1]; if `mode = 1d`, then `Nmu` is set to 1\n",
      " |      dk : float; optional\n",
      " |          the spacing of k bins to use; if not provided, the fundamental mode of the box is used\n",
      " |      kmin : float, optional\n",
      " |          the lower edge of the first ``k`` bin to use\n",
      " |      poles : list of int; optional\n",
      " |          a list of multipole numbers ``ell`` to compute :math:`P_\\ell(k)` from :math:`P(k,\\mu)`\n",
      " |  \n",
      " |  __setstate__(self, state)\n",
      " |  \n",
      " |  run(self)\n",
      " |      Compute the power spectrum in a periodic box, using FFTs. This\n",
      " |      function returns nothing, but attaches several attributes\n",
      " |      to the class (see below).\n",
      " |      \n",
      " |      Attributes\n",
      " |      ----------\n",
      " |      edges : array_like\n",
      " |          the edges of the wavenumber bins\n",
      " |      power : :class:`~nbodykit.dataset.DataSet`\n",
      " |          a DataSet object that behaves similar to a structured array, with\n",
      " |          fancy slicing and re-indexing; it holds the measured :math:`P(k)` or \n",
      " |          :math:`P(k,\\mu)`\n",
      " |      poles : :class:`~nbodykit.dataset.DataSet` or ``None``\n",
      " |          a DataSet object to hold the multipole results :math:`P_\\ell(k)`;\n",
      " |          if no multipoles were requested by the user, this is ``None``\n",
      " |  \n",
      " |  ----------------------------------------------------------------------\n",
      " |  Data and other attributes defined here:\n",
      " |  \n",
      " |  logger = <Logger FFTPower (WARNING)>\n",
      " |  \n",
      " |  ----------------------------------------------------------------------\n",
      " |  Methods inherited from FFTPowerBase:\n",
      " |  \n",
      " |  save(self, output)\n",
      " |      Save the FFTPower result to disk.\n",
      " |      \n",
      " |      The format is currently JSON.\n",
      " |  \n",
      " |  ----------------------------------------------------------------------\n",
      " |  Class methods inherited from FFTPowerBase:\n",
      " |  \n",
      " |  load(output, comm=None) from builtins.type\n",
      " |      Load a saved FFTPower result.\n",
      " |      \n",
      " |      The result has been saved to disk with :func:`FFTPower.save`.\n",
      " |  \n",
      " |  ----------------------------------------------------------------------\n",
      " |  Data descriptors inherited from FFTPowerBase:\n",
      " |  \n",
      " |  __dict__\n",
      " |      dictionary for instance variables (if defined)\n",
      " |  \n",
      " |  __weakref__\n",
      " |      list of weak references to the object (if defined)\n",
      "\n"
     ]
    }
   ],
   "source": [
    "help(nlab.FFTPower)"
   ]
  },
  {
   "cell_type": "code",
   "execution_count": 78,
   "metadata": {},
   "outputs": [],
   "source": [
    "r = nlab.FFTPower(cat, mode='2d', Nmesh=128)"
   ]
  },
  {
   "cell_type": "code",
   "execution_count": 79,
   "metadata": {},
   "outputs": [
    {
     "data": {
      "text/plain": [
       "{'BoxSize': array([ 720.,  720.,  720.]),\n",
       " 'Lx': 720.0,\n",
       " 'Ly': 720.0,\n",
       " 'Lz': 720.0,\n",
       " 'N1': 1297520,\n",
       " 'N2': 1297520,\n",
       " 'Nmesh': array([128, 128, 128]),\n",
       " 'Nmu': 5,\n",
       " 'dk': 0.0087266462599716477,\n",
       " 'kmin': 0.0,\n",
       " 'los': [0, 0, 1],\n",
       " 'mode': '2d',\n",
       " 'poles': [],\n",
       " 'shotnoise': 287.66261791725753,\n",
       " 'volume': 373248000.0}"
      ]
     },
     "execution_count": 79,
     "metadata": {},
     "output_type": "execute_result"
    }
   ],
   "source": [
    "r.attrs"
   ]
  },
  {
   "cell_type": "code",
   "execution_count": 82,
   "metadata": {},
   "outputs": [
    {
     "data": {
      "text/plain": [
       "(64, 5)"
      ]
     },
     "execution_count": 82,
     "metadata": {},
     "output_type": "execute_result"
    }
   ],
   "source": [
    "r.power['k'].shape"
   ]
  },
  {
   "cell_type": "code",
   "execution_count": 81,
   "metadata": {},
   "outputs": [
    {
     "data": {
      "image/png": "[encoded data removed]",
      "text/plain": [
       "<matplotlib.figure.Figure at 0x12b1cc240>"
      ]
     },
     "metadata": {},
     "output_type": "display_data"
    }
   ],
   "source": [
    "plot(r.power['k'], abs(r.power['power']))\n",
    "xscale(\"log\")\n",
    "yscale(\"log\")"
   ]
  },
  {
   "cell_type": "code",
   "execution_count": null,
   "metadata": {
    "collapsed": true
   },
   "outputs": [],
   "source": []
  }
 ],
 "metadata": {
  "kernelspec": {
   "display_name": "Python 3",
   "language": "python",
   "name": "python3"
  },
  "language_info": {
   "codemirror_mode": {
    "name": "ipython",
    "version": 3
   },
   "file_extension": ".py",
   "mimetype": "text/x-python",
   "name": "python",
   "nbconvert_exporter": "python",
   "pygments_lexer": "ipython3",
   "version": "3.6.1"
  }
 },
 "nbformat": 4,
 "nbformat_minor": 2
}
