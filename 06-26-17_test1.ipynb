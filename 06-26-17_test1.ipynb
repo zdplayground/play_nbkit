{
 "cells": [
  {
   "cell_type": "code",
   "execution_count": 57,
   "metadata": {},
   "outputs": [],
   "source": [
    "%matplotlib inline"
   ]
  },
  {
   "cell_type": "code",
   "execution_count": 58,
   "metadata": {
    "collapsed": true
   },
   "outputs": [],
   "source": [
    "import matplotlib.pyplot as plt"
   ]
  },
  {
   "cell_type": "code",
   "execution_count": 33,
   "metadata": {},
   "outputs": [],
   "source": [
    "import os\n",
    "import numpy as np\n",
    "import h5py\n",
    "import nbodykit.lab as nlab"
   ]
  },
  {
   "cell_type": "code",
   "execution_count": 18,
   "metadata": {},
   "outputs": [],
   "source": [
    "ifile = '/Users/ding/Documents/playground/WiggleNowiggle/1test_data/normal-fof00100_0.6452_0.168.hdf5'\n",
    "f = h5py.File(ifile, 'r')"
   ]
  },
  {
   "cell_type": "code",
   "execution_count": 26,
   "metadata": {},
   "outputs": [
    {
     "name": "stdout",
     "output_type": "stream",
     "text": [
      "Keys: KeysView(<HDF5 file \"normal-fof00100_0.6452_0.168.hdf5\" (mode r)>)\n",
      "['FOFGroups']\n"
     ]
    }
   ],
   "source": [
    "# List all groups\n",
    "print(\"Keys: %s\" % f.keys())\n",
    "group = list(f.keys())\n",
    "print(group)"
   ]
  },
  {
   "cell_type": "code",
   "execution_count": 27,
   "metadata": {},
   "outputs": [
    {
     "name": "stdout",
     "output_type": "stream",
     "text": [
      "[ ([  9.99988258e-01,   9.99988377e-01,   6.48897898e-04], [ -1.44284144e-07,   1.25406046e-07,   1.43052944e-07],     0)\n",
      " ([  2.58767426e-01,   3.38956803e-01,   7.74578005e-02], [ -4.20922972e-03,  -4.52705048e-04,   5.28158911e-04], 64700)\n",
      " ([  1.80212960e-01,   1.37286350e-01,   6.39832854e-01], [  1.25438161e-03,  -7.21376273e-04,  -3.95847077e-04], 63277)\n",
      " ...,\n",
      " ([  5.03986776e-01,   2.72752553e-01,   9.67745930e-02], [  4.05300641e-03,  -1.11695495e-03,   4.07119654e-03],    33)\n",
      " ([  5.07516824e-02,   3.13175380e-01,   3.72966170e-01], [ -2.91355164e-03,   1.18933572e-03,  -2.79745017e-03],    33)\n",
      " ([  3.60247374e-01,   2.44766977e-02,   1.90057501e-01], [  9.23227984e-04,   7.36368471e-04,   4.00221488e-03],    33)] [('Position', '<f4', (3,)), ('Velocity', '<f4', (3,)), ('Length', '<i4')]\n"
     ]
    }
   ],
   "source": [
    "dset = f[group[0]][:]\n",
    "print(dset, dset.dtype)"
   ]
  },
  {
   "cell_type": "code",
   "execution_count": 72,
   "metadata": {},
   "outputs": [
    {
     "name": "stdout",
     "output_type": "stream",
     "text": [
      "(3,)\n"
     ]
    }
   ],
   "source": [
    "print(f[group[0]].attrs['BoxSize'].shape)"
   ]
  },
  {
   "cell_type": "code",
   "execution_count": 74,
   "metadata": {},
   "outputs": [
    {
     "name": "stdout",
     "output_type": "stream",
     "text": [
      "[[  1.37998380e+03   1.37998396e+03   8.95479099e-01]\n",
      " [  3.57099048e+02   4.67760388e+02   1.06891765e+02]\n",
      " [  2.48693884e+02   1.89455163e+02   8.82969339e+02]\n",
      " ..., \n",
      " [  6.95501751e+02   3.76398523e+02   1.33548938e+02]\n",
      " [  7.00373217e+01   4.32182025e+02   5.14693315e+02]\n",
      " [  4.97141376e+02   3.37778428e+01   2.62279352e+02]]\n"
     ]
    }
   ],
   "source": [
    "x_y_z = dset['Position']*f[group[0]].attrs['BoxSize']\n",
    "print(x_y_z)"
   ]
  },
  {
   "cell_type": "code",
   "execution_count": 75,
   "metadata": {},
   "outputs": [
    {
     "name": "stdout",
     "output_type": "stream",
     "text": [
      "(12696653, 3)\n"
     ]
    }
   ],
   "source": [
    "v_xyz = dset['Velocity']*f[group[0]].attrs['BoxSize']\n",
    "print(v_xyz.shape)"
   ]
  },
  {
   "cell_type": "code",
   "execution_count": 76,
   "metadata": {},
   "outputs": [
    {
     "name": "stdout",
     "output_type": "stream",
     "text": [
      "float64\n"
     ]
    }
   ],
   "source": [
    "x_v = np.hstack((x_y_z, v_xyz))\n",
    "print(x_v.dtype)"
   ]
  },
  {
   "cell_type": "code",
   "execution_count": 77,
   "metadata": {},
   "outputs": [
    {
     "name": "stdout",
     "output_type": "stream",
     "text": [
      "<built-in method dump of numpy.ndarray object at 0x1107d50d0>\n"
     ]
    }
   ],
   "source": [
    "print(dset.dump)"
   ]
  },
  {
   "cell_type": "code",
   "execution_count": 78,
   "metadata": {},
   "outputs": [],
   "source": [
    "x_v_cat = nlab.ArrayCatalog(dset)"
   ]
  },
  {
   "cell_type": "code",
   "execution_count": 79,
   "metadata": {},
   "outputs": [
    {
     "name": "stdout",
     "output_type": "stream",
     "text": [
      "['Length', 'Position', 'Selection', 'Velocity', 'Weight']\n"
     ]
    }
   ],
   "source": [
    "print(x_v_cat.columns)"
   ]
  },
  {
   "cell_type": "code",
   "execution_count": 80,
   "metadata": {},
   "outputs": [],
   "source": [
    "r = nlab.FFTPower(x_v_cat, mode='1d', BoxSize=1380., Nmesh=128)"
   ]
  },
  {
   "cell_type": "code",
   "execution_count": 81,
   "metadata": {},
   "outputs": [
    {
     "ename": "AttributeError",
     "evalue": "'numpy.ndarray' object has no attribute 'comm'",
     "output_type": "error",
     "traceback": [
      "\u001b[0;31m---------------------------------------------------------------------------\u001b[0m",
      "\u001b[0;31mAttributeError\u001b[0m                            Traceback (most recent call last)",
      "\u001b[0;32m<ipython-input-81-df17b9c585a7>\u001b[0m in \u001b[0;36m<module>\u001b[0;34m()\u001b[0m\n\u001b[0;32m----> 1\u001b[0;31m \u001b[0mr\u001b[0m \u001b[0;34m=\u001b[0m \u001b[0mnlab\u001b[0m\u001b[0;34m.\u001b[0m\u001b[0mFFTPower\u001b[0m\u001b[0;34m(\u001b[0m\u001b[0mdset\u001b[0m\u001b[0;34m,\u001b[0m \u001b[0mmode\u001b[0m\u001b[0;34m=\u001b[0m\u001b[0;34m'1d'\u001b[0m\u001b[0;34m,\u001b[0m \u001b[0mBoxSize\u001b[0m\u001b[0;34m=\u001b[0m\u001b[0;36m1380.\u001b[0m\u001b[0;34m,\u001b[0m \u001b[0mNmesh\u001b[0m\u001b[0;34m=\u001b[0m\u001b[0;36m128\u001b[0m\u001b[0;34m)\u001b[0m\u001b[0;34m\u001b[0m\u001b[0m\n\u001b[0m",
      "\u001b[0;32m~/miniconda3/lib/python3.6/site-packages/nbodykit/algorithms/fftpower.py\u001b[0m in \u001b[0;36m__init__\u001b[0;34m(self, first, mode, Nmesh, BoxSize, second, los, Nmu, dk, kmin, poles)\u001b[0m\n\u001b[1;32m    204\u001b[0m             \u001b[0mpoles\u001b[0m \u001b[0;34m=\u001b[0m \u001b[0;34m[\u001b[0m\u001b[0;34m]\u001b[0m\u001b[0;34m\u001b[0m\u001b[0m\n\u001b[1;32m    205\u001b[0m \u001b[0;34m\u001b[0m\u001b[0m\n\u001b[0;32m--> 206\u001b[0;31m         \u001b[0mFFTPowerBase\u001b[0m\u001b[0;34m.\u001b[0m\u001b[0m__init__\u001b[0m\u001b[0;34m(\u001b[0m\u001b[0mself\u001b[0m\u001b[0;34m,\u001b[0m \u001b[0mfirst\u001b[0m\u001b[0;34m,\u001b[0m \u001b[0msecond\u001b[0m\u001b[0;34m,\u001b[0m \u001b[0mNmesh\u001b[0m\u001b[0;34m,\u001b[0m \u001b[0mBoxSize\u001b[0m\u001b[0;34m,\u001b[0m \u001b[0mkmin\u001b[0m\u001b[0;34m,\u001b[0m \u001b[0mdk\u001b[0m\u001b[0;34m)\u001b[0m\u001b[0;34m\u001b[0m\u001b[0m\n\u001b[0m\u001b[1;32m    207\u001b[0m \u001b[0;34m\u001b[0m\u001b[0m\n\u001b[1;32m    208\u001b[0m         \u001b[0;31m# save meta-data\u001b[0m\u001b[0;34m\u001b[0m\u001b[0;34m\u001b[0m\u001b[0m\n",
      "\u001b[0;32m~/miniconda3/lib/python3.6/site-packages/nbodykit/algorithms/fftpower.py\u001b[0m in \u001b[0;36m__init__\u001b[0;34m(self, first, second, Nmesh, BoxSize, kmin, dk)\u001b[0m\n\u001b[1;32m     16\u001b[0m \u001b[0;34m\u001b[0m\u001b[0m\n\u001b[1;32m     17\u001b[0m         \u001b[0;31m# grab comm from first source\u001b[0m\u001b[0;34m\u001b[0m\u001b[0;34m\u001b[0m\u001b[0m\n\u001b[0;32m---> 18\u001b[0;31m         \u001b[0mself\u001b[0m\u001b[0;34m.\u001b[0m\u001b[0mcomm\u001b[0m \u001b[0;34m=\u001b[0m \u001b[0mfirst\u001b[0m\u001b[0;34m.\u001b[0m\u001b[0mcomm\u001b[0m\u001b[0;34m\u001b[0m\u001b[0m\n\u001b[0m\u001b[1;32m     19\u001b[0m \u001b[0;34m\u001b[0m\u001b[0m\n\u001b[1;32m     20\u001b[0m         \u001b[0;31m# if input is CatalogSource, use defaults to make it into a mesh\u001b[0m\u001b[0;34m\u001b[0m\u001b[0;34m\u001b[0m\u001b[0m\n",
      "\u001b[0;31mAttributeError\u001b[0m: 'numpy.ndarray' object has no attribute 'comm'"
     ]
    }
   ],
   "source": [
    "#r = nlab.FFTPower(dset, mode='1d', BoxSize=1380., Nmesh=128)"
   ]
  },
  {
   "cell_type": "code",
   "execution_count": 82,
   "metadata": {},
   "outputs": [
    {
     "data": {
      "text/plain": [
       "<DataSet: dims: (k: 64), variables: ('k', 'power', 'modes')>"
      ]
     },
     "execution_count": 82,
     "metadata": {},
     "output_type": "execute_result"
    }
   ],
   "source": [
    "r.power"
   ]
  },
  {
   "cell_type": "code",
   "execution_count": 83,
   "metadata": {},
   "outputs": [
    {
     "data": {
      "text/plain": [
       "array([ 0.        ,  0.00644902,  0.01115458,  0.01561628,  0.02017146,\n",
       "        0.02492702,  0.02959412,  0.03402964,  0.03848839,  0.04309683,\n",
       "        0.04770974,  0.05220016,  0.05676944,  0.06145674,  0.06598348,\n",
       "        0.07045739,  0.07503438,  0.07957931,  0.08415473,  0.08871564,\n",
       "        0.09324763,  0.09780306,  0.10234642,  0.10691264,  0.11144127,\n",
       "        0.11599882,  0.12061477,  0.12519467,  0.12971907,  0.13424624,\n",
       "        0.1387587 ,  0.14332536,  0.14789404,  0.15247116,  0.15705065,\n",
       "        0.16158943,  0.16613519,  0.17067724,  0.17522835,  0.17977761,\n",
       "        0.18431173,  0.18886541,  0.19342445,  0.19800479,  0.202579  ,\n",
       "        0.20713416,  0.21166358,  0.21619375,  0.22077055,  0.22532619,\n",
       "        0.22987954,  0.23444724,  0.23900943,  0.24357905,  0.24810361,\n",
       "        0.25264894,  0.25720737,  0.26173761,  0.26629377,  0.27084813,\n",
       "        0.27541488,  0.27997044,  0.28451892,  0.28909183])"
      ]
     },
     "execution_count": 83,
     "metadata": {},
     "output_type": "execute_result"
    }
   ],
   "source": [
    "r.power['k']"
   ]
  },
  {
   "cell_type": "code",
   "execution_count": 84,
   "metadata": {},
   "outputs": [
    {
     "name": "stderr",
     "output_type": "stream",
     "text": [
      "/Users/ding/miniconda3/lib/python3.6/site-packages/numpy/core/numeric.py:531: ComplexWarning: Casting complex values to real discards the imaginary part\n",
      "  return array(a, dtype, copy=False, order=order)\n"
     ]
    },
    {
     "data": {
      "text/plain": [
       "[<matplotlib.lines.Line2D at 0x129509780>]"
      ]
     },
     "execution_count": 84,
     "metadata": {},
     "output_type": "execute_result"
    },
    {
     "data": {
      "image/png": "[encoded data removed]",
      "text/plain": [
       "<matplotlib.figure.Figure at 0x1294edb00>"
      ]
     },
     "metadata": {},
     "output_type": "display_data"
    }
   ],
   "source": [
    "plt.loglog(r.power['k'], r.power['power'])"
   ]
  },
  {
   "cell_type": "code",
   "execution_count": null,
   "metadata": {
    "collapsed": true
   },
   "outputs": [],
   "source": []
  }
 ],
 "metadata": {
  "kernelspec": {
   "display_name": "Python 3",
   "language": "python",
   "name": "python3"
  },
  "language_info": {
   "codemirror_mode": {
    "name": "ipython",
    "version": 3
   },
   "file_extension": ".py",
   "mimetype": "text/x-python",
   "name": "python",
   "nbconvert_exporter": "python",
   "pygments_lexer": "ipython3",
   "version": "3.6.1"
  }
 },
 "nbformat": 4,
 "nbformat_minor": 2
}
